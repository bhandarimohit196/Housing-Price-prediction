{
  "nbformat": 4,
  "nbformat_minor": 5,
  "metadata": {
    "kernelspec": {
      "display_name": "Python 3",
      "language": "python",
      "name": "python3"
    },
    "language_info": {
      "codemirror_mode": {
        "name": "ipython",
        "version": 3
      },
      "file_extension": ".py",
      "mimetype": "text/x-python",
      "name": "python",
      "nbconvert_exporter": "python",
      "pygments_lexer": "ipython3",
      "version": "3.8.8"
    },
    "colab": {
      "name": "Housing_pricing.ipynb",
      "provenance": [],
      "include_colab_link": true
    }
  },
  "cells": [
    {
      "cell_type": "markdown",
      "metadata": {
        "id": "view-in-github",
        "colab_type": "text"
      },
      "source": [
        "<a href=\"https://colab.research.google.com/github/bhandarimohit196/Housing-Price-prediction/blob/main/Housing_pricing.ipynb\" target=\"_parent\"><img src=\"https://colab.research.google.com/assets/colab-badge.svg\" alt=\"Open In Colab\"/></a>"
      ]
    },
    {
      "cell_type": "code",
      "metadata": {
        "id": "610cd2af"
      },
      "source": [
        "# Predicing House Pricesing Using Linear Regression,Decision Tree,Random Forest"
      ],
      "id": "610cd2af",
      "execution_count": 1,
      "outputs": []
    },
    {
      "cell_type": "code",
      "metadata": {
        "id": "630656d9"
      },
      "source": [
        "import pandas as pd\n",
        "import numpy as np\n",
        "import matplotlib.pyplot as plt\n",
        "import seaborn as sns\n",
        "import warnings\n",
        "warnings.filterwarnings(\"ignore\")"
      ],
      "id": "630656d9",
      "execution_count": 2,
      "outputs": []
    },
    {
      "cell_type": "code",
      "metadata": {
        "id": "587200bd"
      },
      "source": [
        "#importing data set"
      ],
      "id": "587200bd",
      "execution_count": 3,
      "outputs": []
    },
    {
      "cell_type": "code",
      "metadata": {
        "colab": {
          "base_uri": "https://localhost:8080/",
          "height": 405
        },
        "id": "23f3cc52",
        "outputId": "06378cd1-44f8-453f-fecd-2ee33c527d2c"
      },
      "source": [
        "df_train=pd.read_csv(\"C:/Users/MOHIT/Downloads/train (2).csv\")#importing training data set\n",
        "df_test=pd.read_csv(\"C:/Users/MOHIT/Downloads/test.csv\")#importing test data set"
      ],
      "id": "23f3cc52",
      "execution_count": 4,
      "outputs": [
        {
          "output_type": "error",
          "ename": "FileNotFoundError",
          "evalue": "ignored",
          "traceback": [
            "\u001b[0;31m---------------------------------------------------------------------------\u001b[0m",
            "\u001b[0;31mFileNotFoundError\u001b[0m                         Traceback (most recent call last)",
            "\u001b[0;32m<ipython-input-4-d4220ae66ca6>\u001b[0m in \u001b[0;36m<module>\u001b[0;34m()\u001b[0m\n\u001b[0;32m----> 1\u001b[0;31m \u001b[0mdf_train\u001b[0m\u001b[0;34m=\u001b[0m\u001b[0mpd\u001b[0m\u001b[0;34m.\u001b[0m\u001b[0mread_csv\u001b[0m\u001b[0;34m(\u001b[0m\u001b[0;34m\"C:/Users/MOHIT/Downloads/train (2).csv\"\u001b[0m\u001b[0;34m)\u001b[0m\u001b[0;31m#importing training data set\u001b[0m\u001b[0;34m\u001b[0m\u001b[0;34m\u001b[0m\u001b[0m\n\u001b[0m\u001b[1;32m      2\u001b[0m \u001b[0mdf_test\u001b[0m\u001b[0;34m=\u001b[0m\u001b[0mpd\u001b[0m\u001b[0;34m.\u001b[0m\u001b[0mread_csv\u001b[0m\u001b[0;34m(\u001b[0m\u001b[0;34m\"C:/Users/MOHIT/Downloads/test.csv\"\u001b[0m\u001b[0;34m)\u001b[0m\u001b[0;31m#importing test data set\u001b[0m\u001b[0;34m\u001b[0m\u001b[0;34m\u001b[0m\u001b[0m\n",
            "\u001b[0;32m/usr/local/lib/python3.7/dist-packages/pandas/io/parsers.py\u001b[0m in \u001b[0;36mread_csv\u001b[0;34m(filepath_or_buffer, sep, delimiter, header, names, index_col, usecols, squeeze, prefix, mangle_dupe_cols, dtype, engine, converters, true_values, false_values, skipinitialspace, skiprows, skipfooter, nrows, na_values, keep_default_na, na_filter, verbose, skip_blank_lines, parse_dates, infer_datetime_format, keep_date_col, date_parser, dayfirst, cache_dates, iterator, chunksize, compression, thousands, decimal, lineterminator, quotechar, quoting, doublequote, escapechar, comment, encoding, dialect, error_bad_lines, warn_bad_lines, delim_whitespace, low_memory, memory_map, float_precision)\u001b[0m\n\u001b[1;32m    686\u001b[0m     )\n\u001b[1;32m    687\u001b[0m \u001b[0;34m\u001b[0m\u001b[0m\n\u001b[0;32m--> 688\u001b[0;31m     \u001b[0;32mreturn\u001b[0m \u001b[0m_read\u001b[0m\u001b[0;34m(\u001b[0m\u001b[0mfilepath_or_buffer\u001b[0m\u001b[0;34m,\u001b[0m \u001b[0mkwds\u001b[0m\u001b[0;34m)\u001b[0m\u001b[0;34m\u001b[0m\u001b[0;34m\u001b[0m\u001b[0m\n\u001b[0m\u001b[1;32m    689\u001b[0m \u001b[0;34m\u001b[0m\u001b[0m\n\u001b[1;32m    690\u001b[0m \u001b[0;34m\u001b[0m\u001b[0m\n",
            "\u001b[0;32m/usr/local/lib/python3.7/dist-packages/pandas/io/parsers.py\u001b[0m in \u001b[0;36m_read\u001b[0;34m(filepath_or_buffer, kwds)\u001b[0m\n\u001b[1;32m    452\u001b[0m \u001b[0;34m\u001b[0m\u001b[0m\n\u001b[1;32m    453\u001b[0m     \u001b[0;31m# Create the parser.\u001b[0m\u001b[0;34m\u001b[0m\u001b[0;34m\u001b[0m\u001b[0;34m\u001b[0m\u001b[0m\n\u001b[0;32m--> 454\u001b[0;31m     \u001b[0mparser\u001b[0m \u001b[0;34m=\u001b[0m \u001b[0mTextFileReader\u001b[0m\u001b[0;34m(\u001b[0m\u001b[0mfp_or_buf\u001b[0m\u001b[0;34m,\u001b[0m \u001b[0;34m**\u001b[0m\u001b[0mkwds\u001b[0m\u001b[0;34m)\u001b[0m\u001b[0;34m\u001b[0m\u001b[0;34m\u001b[0m\u001b[0m\n\u001b[0m\u001b[1;32m    455\u001b[0m \u001b[0;34m\u001b[0m\u001b[0m\n\u001b[1;32m    456\u001b[0m     \u001b[0;32mif\u001b[0m \u001b[0mchunksize\u001b[0m \u001b[0;32mor\u001b[0m \u001b[0miterator\u001b[0m\u001b[0;34m:\u001b[0m\u001b[0;34m\u001b[0m\u001b[0;34m\u001b[0m\u001b[0m\n",
            "\u001b[0;32m/usr/local/lib/python3.7/dist-packages/pandas/io/parsers.py\u001b[0m in \u001b[0;36m__init__\u001b[0;34m(self, f, engine, **kwds)\u001b[0m\n\u001b[1;32m    946\u001b[0m             \u001b[0mself\u001b[0m\u001b[0;34m.\u001b[0m\u001b[0moptions\u001b[0m\u001b[0;34m[\u001b[0m\u001b[0;34m\"has_index_names\"\u001b[0m\u001b[0;34m]\u001b[0m \u001b[0;34m=\u001b[0m \u001b[0mkwds\u001b[0m\u001b[0;34m[\u001b[0m\u001b[0;34m\"has_index_names\"\u001b[0m\u001b[0;34m]\u001b[0m\u001b[0;34m\u001b[0m\u001b[0;34m\u001b[0m\u001b[0m\n\u001b[1;32m    947\u001b[0m \u001b[0;34m\u001b[0m\u001b[0m\n\u001b[0;32m--> 948\u001b[0;31m         \u001b[0mself\u001b[0m\u001b[0;34m.\u001b[0m\u001b[0m_make_engine\u001b[0m\u001b[0;34m(\u001b[0m\u001b[0mself\u001b[0m\u001b[0;34m.\u001b[0m\u001b[0mengine\u001b[0m\u001b[0;34m)\u001b[0m\u001b[0;34m\u001b[0m\u001b[0;34m\u001b[0m\u001b[0m\n\u001b[0m\u001b[1;32m    949\u001b[0m \u001b[0;34m\u001b[0m\u001b[0m\n\u001b[1;32m    950\u001b[0m     \u001b[0;32mdef\u001b[0m \u001b[0mclose\u001b[0m\u001b[0;34m(\u001b[0m\u001b[0mself\u001b[0m\u001b[0;34m)\u001b[0m\u001b[0;34m:\u001b[0m\u001b[0;34m\u001b[0m\u001b[0;34m\u001b[0m\u001b[0m\n",
            "\u001b[0;32m/usr/local/lib/python3.7/dist-packages/pandas/io/parsers.py\u001b[0m in \u001b[0;36m_make_engine\u001b[0;34m(self, engine)\u001b[0m\n\u001b[1;32m   1178\u001b[0m     \u001b[0;32mdef\u001b[0m \u001b[0m_make_engine\u001b[0m\u001b[0;34m(\u001b[0m\u001b[0mself\u001b[0m\u001b[0;34m,\u001b[0m \u001b[0mengine\u001b[0m\u001b[0;34m=\u001b[0m\u001b[0;34m\"c\"\u001b[0m\u001b[0;34m)\u001b[0m\u001b[0;34m:\u001b[0m\u001b[0;34m\u001b[0m\u001b[0;34m\u001b[0m\u001b[0m\n\u001b[1;32m   1179\u001b[0m         \u001b[0;32mif\u001b[0m \u001b[0mengine\u001b[0m \u001b[0;34m==\u001b[0m \u001b[0;34m\"c\"\u001b[0m\u001b[0;34m:\u001b[0m\u001b[0;34m\u001b[0m\u001b[0;34m\u001b[0m\u001b[0m\n\u001b[0;32m-> 1180\u001b[0;31m             \u001b[0mself\u001b[0m\u001b[0;34m.\u001b[0m\u001b[0m_engine\u001b[0m \u001b[0;34m=\u001b[0m \u001b[0mCParserWrapper\u001b[0m\u001b[0;34m(\u001b[0m\u001b[0mself\u001b[0m\u001b[0;34m.\u001b[0m\u001b[0mf\u001b[0m\u001b[0;34m,\u001b[0m \u001b[0;34m**\u001b[0m\u001b[0mself\u001b[0m\u001b[0;34m.\u001b[0m\u001b[0moptions\u001b[0m\u001b[0;34m)\u001b[0m\u001b[0;34m\u001b[0m\u001b[0;34m\u001b[0m\u001b[0m\n\u001b[0m\u001b[1;32m   1181\u001b[0m         \u001b[0;32melse\u001b[0m\u001b[0;34m:\u001b[0m\u001b[0;34m\u001b[0m\u001b[0;34m\u001b[0m\u001b[0m\n\u001b[1;32m   1182\u001b[0m             \u001b[0;32mif\u001b[0m \u001b[0mengine\u001b[0m \u001b[0;34m==\u001b[0m \u001b[0;34m\"python\"\u001b[0m\u001b[0;34m:\u001b[0m\u001b[0;34m\u001b[0m\u001b[0;34m\u001b[0m\u001b[0m\n",
            "\u001b[0;32m/usr/local/lib/python3.7/dist-packages/pandas/io/parsers.py\u001b[0m in \u001b[0;36m__init__\u001b[0;34m(self, src, **kwds)\u001b[0m\n\u001b[1;32m   2008\u001b[0m         \u001b[0mkwds\u001b[0m\u001b[0;34m[\u001b[0m\u001b[0;34m\"usecols\"\u001b[0m\u001b[0;34m]\u001b[0m \u001b[0;34m=\u001b[0m \u001b[0mself\u001b[0m\u001b[0;34m.\u001b[0m\u001b[0musecols\u001b[0m\u001b[0;34m\u001b[0m\u001b[0;34m\u001b[0m\u001b[0m\n\u001b[1;32m   2009\u001b[0m \u001b[0;34m\u001b[0m\u001b[0m\n\u001b[0;32m-> 2010\u001b[0;31m         \u001b[0mself\u001b[0m\u001b[0;34m.\u001b[0m\u001b[0m_reader\u001b[0m \u001b[0;34m=\u001b[0m \u001b[0mparsers\u001b[0m\u001b[0;34m.\u001b[0m\u001b[0mTextReader\u001b[0m\u001b[0;34m(\u001b[0m\u001b[0msrc\u001b[0m\u001b[0;34m,\u001b[0m \u001b[0;34m**\u001b[0m\u001b[0mkwds\u001b[0m\u001b[0;34m)\u001b[0m\u001b[0;34m\u001b[0m\u001b[0;34m\u001b[0m\u001b[0m\n\u001b[0m\u001b[1;32m   2011\u001b[0m         \u001b[0mself\u001b[0m\u001b[0;34m.\u001b[0m\u001b[0munnamed_cols\u001b[0m \u001b[0;34m=\u001b[0m \u001b[0mself\u001b[0m\u001b[0;34m.\u001b[0m\u001b[0m_reader\u001b[0m\u001b[0;34m.\u001b[0m\u001b[0munnamed_cols\u001b[0m\u001b[0;34m\u001b[0m\u001b[0;34m\u001b[0m\u001b[0m\n\u001b[1;32m   2012\u001b[0m \u001b[0;34m\u001b[0m\u001b[0m\n",
            "\u001b[0;32mpandas/_libs/parsers.pyx\u001b[0m in \u001b[0;36mpandas._libs.parsers.TextReader.__cinit__\u001b[0;34m()\u001b[0m\n",
            "\u001b[0;32mpandas/_libs/parsers.pyx\u001b[0m in \u001b[0;36mpandas._libs.parsers.TextReader._setup_parser_source\u001b[0;34m()\u001b[0m\n",
            "\u001b[0;31mFileNotFoundError\u001b[0m: [Errno 2] No such file or directory: 'C:/Users/MOHIT/Downloads/train (2).csv'"
          ]
        }
      ]
    },
    {
      "cell_type": "code",
      "metadata": {
        "id": "831f1bcf"
      },
      "source": [
        "df_train.head()"
      ],
      "id": "831f1bcf",
      "execution_count": null,
      "outputs": []
    },
    {
      "cell_type": "code",
      "metadata": {
        "id": "3e918dbf"
      },
      "source": [
        "df_train.shape"
      ],
      "id": "3e918dbf",
      "execution_count": null,
      "outputs": []
    },
    {
      "cell_type": "code",
      "metadata": {
        "id": "e9d9fa6a"
      },
      "source": [
        "df_test.head()"
      ],
      "id": "e9d9fa6a",
      "execution_count": null,
      "outputs": []
    },
    {
      "cell_type": "code",
      "metadata": {
        "id": "8e234011"
      },
      "source": [
        "df_test.shape"
      ],
      "id": "8e234011",
      "execution_count": null,
      "outputs": []
    },
    {
      "cell_type": "code",
      "metadata": {
        "id": "3038e492"
      },
      "source": [
        "df_train.info()"
      ],
      "id": "3038e492",
      "execution_count": null,
      "outputs": []
    },
    {
      "cell_type": "code",
      "metadata": {
        "id": "7f77ef32"
      },
      "source": [
        "df_test.info()"
      ],
      "id": "7f77ef32",
      "execution_count": null,
      "outputs": []
    },
    {
      "cell_type": "code",
      "metadata": {
        "id": "bfa13a1a"
      },
      "source": [
        "df_train.describe()"
      ],
      "id": "bfa13a1a",
      "execution_count": null,
      "outputs": []
    },
    {
      "cell_type": "code",
      "metadata": {
        "id": "20974d66"
      },
      "source": [
        "#visualisation"
      ],
      "id": "20974d66",
      "execution_count": null,
      "outputs": []
    },
    {
      "cell_type": "code",
      "metadata": {
        "id": "3c561f29"
      },
      "source": [
        "plt.figure(figsize=(12,10))\n",
        "sns.set_style(\"ticks\")\n",
        "sns.histplot(data=df_train, x=\"SalePrice\", bins=50,cbar=True ,color='g')"
      ],
      "id": "3c561f29",
      "execution_count": null,
      "outputs": []
    },
    {
      "cell_type": "code",
      "metadata": {
        "id": "a30d9be0"
      },
      "source": [
        "df_train['SalePrice'].describe()"
      ],
      "id": "a30d9be0",
      "execution_count": null,
      "outputs": []
    },
    {
      "cell_type": "code",
      "metadata": {
        "id": "5f65ad23"
      },
      "source": [
        "print( df_train['SalePrice'].skew())\n",
        "print( df_train['SalePrice'].kurt())"
      ],
      "id": "5f65ad23",
      "execution_count": null,
      "outputs": []
    },
    {
      "cell_type": "code",
      "metadata": {
        "id": "3deea769"
      },
      "source": [
        "df_train['SalePrice'] = np.log1p(df_train['SalePrice'])"
      ],
      "id": "3deea769",
      "execution_count": null,
      "outputs": []
    },
    {
      "cell_type": "code",
      "metadata": {
        "id": "9a8bca0c"
      },
      "source": [
        "print( df_train['SalePrice'].skew())\n",
        "print( df_train['SalePrice'].kurt())"
      ],
      "id": "9a8bca0c",
      "execution_count": null,
      "outputs": []
    },
    {
      "cell_type": "code",
      "metadata": {
        "id": "e14a7322"
      },
      "source": [
        "plt.figure(figsize=(12,10))\n",
        "sns.set_style(\"ticks\")\n",
        "sns.histplot(data=df_train, x=\"SalePrice\", bins=50,cbar=True ,color='g')"
      ],
      "id": "e14a7322",
      "execution_count": null,
      "outputs": []
    },
    {
      "cell_type": "code",
      "metadata": {
        "scrolled": true,
        "id": "1c8d6a36"
      },
      "source": [
        "plt.figure(figsize=(9,9))\n",
        "sns.countplot(data=df_train,x=\"MSZoning\")\n",
        "plt.title(\"House available in Different Region\",fontsize=14)\n",
        "plt.xlabel(\"MSZoning\")\n",
        "plt.ylabel(\"No of housing available\")\n",
        "plt.show()"
      ],
      "id": "1c8d6a36",
      "execution_count": null,
      "outputs": []
    },
    {
      "cell_type": "code",
      "metadata": {
        "id": "2e1aea2f"
      },
      "source": [
        "plt.figure(figsize=(10,10))\n",
        "sns.histplot(data=df_train, x=\"SalePrice\",hue=\"MSZoning\", bins=50,cbar=True ,color='g')"
      ],
      "id": "2e1aea2f",
      "execution_count": null,
      "outputs": []
    },
    {
      "cell_type": "code",
      "metadata": {
        "id": "44fb1f39"
      },
      "source": [
        "plt.figure(figsize=(18,10))\n",
        "sns.relplot(x=\"SalePrice\", y=\"OverallQual\", data=df_train, palette=\"ch:r=-.5,l=.75\",kind=\"line\",ci=\"sd\",color='g')"
      ],
      "id": "44fb1f39",
      "execution_count": null,
      "outputs": []
    },
    {
      "cell_type": "code",
      "metadata": {
        "id": "2648daca"
      },
      "source": [
        "plt.figure(figsize=(12,10))\n",
        "sns.regplot(x=\"KitchenAbvGr\", y=\"SalePrice\",data=df_train,color=\"blue\")"
      ],
      "id": "2648daca",
      "execution_count": null,
      "outputs": []
    },
    {
      "cell_type": "code",
      "metadata": {
        "id": "8d1e2194"
      },
      "source": [
        "sns.relplot(x=\"KitchenAbvGr\", y=\"SalePrice\", data=df_train, palette=\"ch:r=-.5,l=.75\",kind=\"line\",ci=\"sd\",color='g')"
      ],
      "id": "8d1e2194",
      "execution_count": null,
      "outputs": []
    },
    {
      "cell_type": "code",
      "metadata": {
        "id": "38775589"
      },
      "source": [
        "plt.figure(figsize=(12,10))\n",
        "sns.regplot(x=\"OverallQual\", y=\"SalePrice\",data=df_train)"
      ],
      "id": "38775589",
      "execution_count": null,
      "outputs": []
    },
    {
      "cell_type": "code",
      "metadata": {
        "id": "8b179af6"
      },
      "source": [
        "plt.figure(figsize=(20,20))\n",
        "sns.heatmap(df_train.corr(),annot=True,fmt=\"0.2f\")"
      ],
      "id": "8b179af6",
      "execution_count": null,
      "outputs": []
    },
    {
      "cell_type": "code",
      "metadata": {
        "id": "81d23e78"
      },
      "source": [
        "plt.figure(figsize=(9,9))\n",
        "sns.boxplot(data=df_train,x=\"SalePrice\")"
      ],
      "id": "81d23e78",
      "execution_count": null,
      "outputs": []
    },
    {
      "cell_type": "code",
      "metadata": {
        "id": "f53bce03"
      },
      "source": [
        "#cleaning data"
      ],
      "id": "f53bce03",
      "execution_count": null,
      "outputs": []
    },
    {
      "cell_type": "code",
      "metadata": {
        "id": "2969bd28"
      },
      "source": [
        "df_train[\"LotFrontage\"].isnull().sum()"
      ],
      "id": "2969bd28",
      "execution_count": null,
      "outputs": []
    },
    {
      "cell_type": "code",
      "metadata": {
        "id": "4a08ba56"
      },
      "source": [
        "df_train[\"LotFrontage\"].fillna(df_train[\"LotFrontage\"].mean(),inplace=True)\n",
        "df_test[\"LotFrontage\"].fillna(df_test[\"LotFrontage\"].mean(),inplace=True)"
      ],
      "id": "4a08ba56",
      "execution_count": null,
      "outputs": []
    },
    {
      "cell_type": "code",
      "metadata": {
        "id": "d69542e2"
      },
      "source": [
        "df_train.drop([\"PoolQC\",\"Alley\",\"Fence\",\"MiscFeature\"],axis=1,inplace=True)\n"
      ],
      "id": "d69542e2",
      "execution_count": null,
      "outputs": []
    },
    {
      "cell_type": "code",
      "metadata": {
        "id": "40e64afa"
      },
      "source": [
        "df_test.drop([\"PoolQC\",\"Alley\",\"Fence\",\"MiscFeature\"],axis=1,inplace=True)"
      ],
      "id": "40e64afa",
      "execution_count": null,
      "outputs": []
    },
    {
      "cell_type": "code",
      "metadata": {
        "id": "d3144244"
      },
      "source": [
        "df_train[\"MasVnrType\"].fillna(\"None\",inplace=True)\n",
        "df_train[\"MasVnrArea\"].fillna(df_train[\"MasVnrArea\"].mean(),inplace=True)\n",
        "df_train[\"BsmtQual\"].fillna(\"TA\",inplace=True)\n",
        "df_train[\"BsmtCond\"].fillna(\"TA\",inplace=True)\n",
        "df_train[\"BsmtExposure\"].fillna(\"No\",inplace=True)\n",
        "df_train[\"BsmtFinType1\"].fillna(\"Unf\",inplace=True)\n",
        "df_train[\"BsmtFinType2\"].fillna(\"Unf\",inplace=True)\n",
        "df_train[\"FireplaceQu\"].fillna(\"Gd\",inplace=True)\n",
        "df_train[\"GarageType\"].fillna(\"Attchd\",inplace=True)\n",
        "df_train[\"GarageYrBlt\"].fillna(df_train[\"GarageYrBlt\"].median(),inplace=True)\n",
        "df_train[\"GarageFinish\"].fillna(\"Unf\",inplace=True)\n",
        "df_train[\"GarageQual\"].fillna(\"TA\",inplace=True)\n",
        "df_train[\"GarageCond\"].fillna(\"TA\",inplace=True)\n",
        "df_train[\"Electrical\"].fillna(\"SBrkr\",inplace=True)"
      ],
      "id": "d3144244",
      "execution_count": null,
      "outputs": []
    },
    {
      "cell_type": "code",
      "metadata": {
        "id": "385a14b4"
      },
      "source": [
        "df_test[\"MasVnrType\"].fillna(\"None\",inplace=True)\n",
        "df_test[\"MasVnrArea\"].fillna(df_test[\"MasVnrArea\"].mean(),inplace=True)\n",
        "df_test[\"BsmtQual\"].fillna(\"TA\",inplace=True)\n",
        "df_train[\"BsmtCond\"].fillna(\"TA\",inplace=True)\n",
        "df_test[\"BsmtExposure\"].fillna(\"No\",inplace=True)\n",
        "df_test[\"BsmtFinType1\"].fillna(\"Unf\",inplace=True)\n",
        "df_test[\"BsmtFinType2\"].fillna(\"Unf\",inplace=True)\n",
        "df_test[\"FireplaceQu\"].fillna(\"Gd\",inplace=True)\n",
        "df_test[\"GarageType\"].fillna(\"Attchd\",inplace=True)\n",
        "df_test[\"GarageYrBlt\"].fillna(df_test[\"GarageYrBlt\"].median(),inplace=True)\n",
        "df_test[\"GarageFinish\"].fillna(\"Unf\",inplace=True)\n",
        "df_test[\"GarageQual\"].fillna(\"TA\",inplace=True)\n",
        "df_test[\"GarageCond\"].fillna(\"TA\",inplace=True)\n",
        "df_test[\"BsmtCond\"].fillna(\"TA\",inplace=True)\n",
        "df_test[\"MSZoning\"].fillna(\"RL\",inplace=True)\n",
        "df_test[\"BsmtFullBath\"].fillna(0.0,inplace=True)\n",
        "df_test[\"Functional\"].fillna(\"Typ\",inplace=True)\n",
        "df_test.dropna(inplace=True)"
      ],
      "id": "385a14b4",
      "execution_count": null,
      "outputs": []
    },
    {
      "cell_type": "code",
      "metadata": {
        "id": "cd004518"
      },
      "source": [
        "dataset=[df_train]\n",
        "for data in dataset:\n",
        "    data.loc[data[\"PoolArea\"]>0,\"pool_available\"]=1\n",
        "    data.loc[data[\"PoolArea\"]==0,\"pool_available\"]=0\n",
        "    data[\"pool_available\"]=data[\"pool_available\"].astype(int)\n",
        "dataset=[df_test]\n",
        "for data in dataset:\n",
        "    data.loc[data[\"PoolArea\"]>0,\"pool_available\"]=1\n",
        "    data.loc[data[\"PoolArea\"]==0,\"pool_available\"]=0\n",
        "    data[\"pool_available\"]=data[\"pool_available\"].astype(int)\n",
        "    "
      ],
      "id": "cd004518",
      "execution_count": null,
      "outputs": []
    },
    {
      "cell_type": "code",
      "metadata": {
        "id": "f04f0ba0"
      },
      "source": [
        "df_train=pd.get_dummies(data=df_train,columns=[\"MSZoning\",\"Street\",\"LotShape\",\"LandContour\",'LandSlope', \n",
        "                                'LotConfig','Neighborhood', 'Condition1', 'BldgType', \n",
        "                                'RoofStyle',  'MasVnrType', 'ExterQual', \n",
        "                                'ExterCond', 'Foundation', 'BsmtQual', 'BsmtCond', 'BsmtExposure', \n",
        "                                'BsmtFinType1', 'HeatingQC', 'CentralAir', \n",
        "                                'KitchenQual', 'FireplaceQu', 'GarageType', 'GarageFinish', \n",
        "                                'GarageCond', 'PavedDrive', 'SaleType', 'SaleCondition'],drop_first =True)\n",
        "df_train.drop([\"Exterior2nd\",\"Condition2\",\"BsmtFinType2\",\"Utilities\", 'HouseStyle',\n",
        "         'RoofMatl', 'Exterior1st',  'Heating', 'Electrical', 'Functional', \n",
        "        'GarageQual'],axis=1,inplace=True)"
      ],
      "id": "f04f0ba0",
      "execution_count": null,
      "outputs": []
    },
    {
      "cell_type": "code",
      "metadata": {
        "id": "1903cb2d"
      },
      "source": [
        "df_train.drop(\"Id\",axis=1,inplace=True)\n",
        "df_train.head()\n"
      ],
      "id": "1903cb2d",
      "execution_count": null,
      "outputs": []
    },
    {
      "cell_type": "code",
      "metadata": {
        "id": "39cd24cb"
      },
      "source": [
        "df_test=pd.get_dummies(data=df_test,columns=[\"MSZoning\",\"Street\",\"LotShape\",\"LandContour\",'LandSlope', \n",
        "                                'LotConfig','Neighborhood', 'Condition1', 'BldgType', \n",
        "                                'RoofStyle',  'MasVnrType', 'ExterQual', \n",
        "                                'ExterCond', 'Foundation', 'BsmtQual', 'BsmtCond', 'BsmtExposure', \n",
        "                                'BsmtFinType1', 'HeatingQC', 'CentralAir', \n",
        "                                'KitchenQual', 'FireplaceQu', 'GarageType', 'GarageFinish', \n",
        "                                'GarageCond', 'PavedDrive', 'SaleType', 'SaleCondition'],drop_first =True)\n",
        "df_test.drop([\"Exterior2nd\",\"Condition2\",\"BsmtFinType2\",\"Utilities\", 'HouseStyle',\n",
        "         'RoofMatl', 'Exterior1st',  'Heating', 'Electrical', 'Functional', \n",
        "        'GarageQual'],axis=1,inplace=True)"
      ],
      "id": "39cd24cb",
      "execution_count": null,
      "outputs": []
    },
    {
      "cell_type": "code",
      "metadata": {
        "id": "a04a1709"
      },
      "source": [
        "df_test.drop(\"Id\",axis=1,inplace=True)\n",
        "df_test.head()"
      ],
      "id": "a04a1709",
      "execution_count": null,
      "outputs": []
    },
    {
      "cell_type": "code",
      "metadata": {
        "id": "1548cbb6"
      },
      "source": [
        "x=df_train.drop(\"SalePrice\",axis=1)\n",
        "y=df_train[\"SalePrice\"]"
      ],
      "id": "1548cbb6",
      "execution_count": null,
      "outputs": []
    },
    {
      "cell_type": "code",
      "metadata": {
        "id": "a591d2c9"
      },
      "source": [
        "#importing Libaries"
      ],
      "id": "a591d2c9",
      "execution_count": null,
      "outputs": []
    },
    {
      "cell_type": "code",
      "metadata": {
        "id": "6a96293f"
      },
      "source": [
        "import sklearn\n",
        "from sklearn.model_selection import train_test_split,cross_val_score\n",
        "from sklearn.metrics import mean_squared_error,mean_absolute_error"
      ],
      "id": "6a96293f",
      "execution_count": null,
      "outputs": []
    },
    {
      "cell_type": "code",
      "metadata": {
        "id": "31440ff4"
      },
      "source": [
        "#spliting the data"
      ],
      "id": "31440ff4",
      "execution_count": null,
      "outputs": []
    },
    {
      "cell_type": "code",
      "metadata": {
        "id": "5885cc0a"
      },
      "source": [
        "x_train,x_test,y_train,y_test=train_test_split(x,y,test_size=0.1,random_state=20)"
      ],
      "id": "5885cc0a",
      "execution_count": null,
      "outputs": []
    },
    {
      "cell_type": "code",
      "metadata": {
        "id": "b4a502e3"
      },
      "source": [
        "# model_1 Linear Regression"
      ],
      "id": "b4a502e3",
      "execution_count": null,
      "outputs": []
    },
    {
      "cell_type": "code",
      "metadata": {
        "id": "5880668f"
      },
      "source": [
        "from sklearn.linear_model import LinearRegression\n",
        "model = LinearRegression()\n",
        "model.fit(x_train, y_train)\n",
        "predictions1 = model.predict(x_test)\n",
        "from sklearn.metrics import mean_squared_error, mean_absolute_error\n",
        "print(mean_absolute_error(y_test,predictions1))\n",
        "print(mean_squared_error(y_test,predictions1))\n",
        "print(np.sqrt(mean_squared_error(y_test,predictions1)))"
      ],
      "id": "5880668f",
      "execution_count": null,
      "outputs": []
    },
    {
      "cell_type": "code",
      "metadata": {
        "id": "0ee93785"
      },
      "source": [
        "plt.figure(figsize=(12,10))\n",
        "sns.regplot(predictions1,y_test)"
      ],
      "id": "0ee93785",
      "execution_count": null,
      "outputs": []
    },
    {
      "cell_type": "code",
      "metadata": {
        "id": "eb75c6fd"
      },
      "source": [
        "# MOdel 2 Decision Tree"
      ],
      "id": "eb75c6fd",
      "execution_count": null,
      "outputs": []
    },
    {
      "cell_type": "code",
      "metadata": {
        "id": "1b14202b"
      },
      "source": [
        "from sklearn.tree import DecisionTreeRegressor\n",
        "Decision_tree=DecisionTreeRegressor(random_state=0)\n",
        "Decision_tree.fit(x_train,y_train)\n",
        "predictions2 = Decision_tree.predict(x_test)\n",
        "print(mean_absolute_error(y_test,predictions2))\n",
        "print(mean_squared_error(y_test,predictions2))\n",
        "print(np.sqrt(mean_squared_error(y_test,predictions2))) "
      ],
      "id": "1b14202b",
      "execution_count": null,
      "outputs": []
    },
    {
      "cell_type": "code",
      "metadata": {
        "id": "cf08c48c"
      },
      "source": [
        "accuracies = cross_val_score(estimator = Decision_tree, X = x_train, y = y_train, cv = 10)\n",
        "print(\"Accuracy: {:.2f} %\".format(accuracies.mean()*100))\n",
        "print(\"Standard Deviation: {:.2f} %\".format(accuracies.std()*100))"
      ],
      "id": "cf08c48c",
      "execution_count": null,
      "outputs": []
    },
    {
      "cell_type": "code",
      "metadata": {
        "id": "7437cfe4"
      },
      "source": [
        "# Model 3 Random Forest Regressor"
      ],
      "id": "7437cfe4",
      "execution_count": null,
      "outputs": []
    },
    {
      "cell_type": "code",
      "metadata": {
        "id": "d6f59b8a"
      },
      "source": [
        "from sklearn.ensemble import RandomForestRegressor\n",
        "random_forest = RandomForestRegressor()\n",
        "random_forest.fit(x_train,y_train)\n",
        "predictions_rforest= random_forest.predict(x_test)\n",
        "print(mean_absolute_error(y_test,predictions_rforest))\n",
        "print(mean_squared_error(y_test,predictions_rforest))\n",
        "print(np.sqrt(mean_squared_error(y_test,predictions_rforest)))\n",
        "accuracies = cross_val_score(estimator = random_forest, X = x_train, y = y_train, cv = 10)\n",
        "print(\"Accuracy: {:.2f} %\".format(accuracies.mean()*100))\n",
        "print(\"Standard Deviation: {:.2f} %\".format(accuracies.std()*100))"
      ],
      "id": "d6f59b8a",
      "execution_count": null,
      "outputs": []
    },
    {
      "cell_type": "code",
      "metadata": {
        "id": "7f064526"
      },
      "source": [
        "# From above three model Random Forest is more effective\n",
        "# using random forest to predict the use sale"
      ],
      "id": "7f064526",
      "execution_count": null,
      "outputs": []
    },
    {
      "cell_type": "code",
      "metadata": {
        "id": "903ebb5b"
      },
      "source": [
        "prediction_rforest=random_forest.predict(df_test)"
      ],
      "id": "903ebb5b",
      "execution_count": null,
      "outputs": []
    },
    {
      "cell_type": "code",
      "metadata": {
        "id": "65ea9b91"
      },
      "source": [
        "prediction_rforest"
      ],
      "id": "65ea9b91",
      "execution_count": null,
      "outputs": []
    },
    {
      "cell_type": "code",
      "metadata": {
        "id": "bd400fca"
      },
      "source": [
        ""
      ],
      "id": "bd400fca",
      "execution_count": null,
      "outputs": []
    }
  ]
}